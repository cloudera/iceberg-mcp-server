{
 "cells": [
  {
   "cell_type": "code",
   "execution_count": 1,
   "id": "36dd4ad6-c01a-4bc7-8b82-1924fdb088ca",
   "metadata": {},
   "outputs": [
    {
     "name": "stdout",
     "output_type": "stream",
     "text": [
      "Note: you may need to restart the kernel to use updated packages.\n"
     ]
    }
   ],
   "source": [
    "# Dependencies for the MCP server\n",
    "%pip install impyla python-dotenv \"mcp[cli]\" --quiet"
   ]
  },
  {
   "cell_type": "code",
   "execution_count": 2,
   "id": "14c4f21a-0c09-401f-992e-3645f57b3527",
   "metadata": {},
   "outputs": [
    {
     "name": "stdout",
     "output_type": "stream",
     "text": [
      "Note: you may need to restart the kernel to use updated packages.\n"
     ]
    }
   ],
   "source": [
    "# Dependencies for the application\n",
    "%pip install langchain-mcp-adapters langgraph langchain-openai --quiet "
   ]
  },
  {
   "cell_type": "code",
   "execution_count": 3,
   "id": "86404806-294d-4732-9165-222c5e9ae91b",
   "metadata": {},
   "outputs": [],
   "source": [
    "from mcp import ClientSession, StdioServerParameters\n",
    "from mcp.client.stdio import stdio_client\n",
    "\n",
    "from langchain_mcp_adapters.tools import load_mcp_tools\n",
    "from langgraph.prebuilt import create_react_agent\n",
    "\n",
    "from langchain_openai import ChatOpenAI"
   ]
  },
  {
   "cell_type": "code",
   "execution_count": 4,
   "id": "52450409-5282-4d1b-9e4d-30c8010126a0",
   "metadata": {},
   "outputs": [],
   "source": [
    "# Configuring AI Inference service hosted model Endpoint\n",
    "import json\n",
    "\n",
    "API_KEY = json.load(open(\"/tmp/jwt\"))[\"access_token\"]\n",
    "MODEL_NAME = \"meta/llama-3.1-8b-instruct\"  # Update this for your Cloudera AI Inference service Endpoint\n",
    "BASE_URL = \"https://ml-2dad9e26-62f.cloudera.site/namespaces/serving-default/endpoints/llama3-8b-throughput/v1/\"  # Update this for your Cloudera AI Inference service Endpoint\n",
    "\n",
    "model = ChatOpenAI(model=MODEL_NAME, base_url=BASE_URL, api_key=API_KEY)"
   ]
  },
  {
   "cell_type": "code",
   "execution_count": 5,
   "id": "203c5f3a-2b36-4f9c-9d7c-427a149aaae0",
   "metadata": {},
   "outputs": [],
   "source": [
    "# Configuring MCP Server and Impala endpoint\n",
    "server_params = StdioServerParameters(\n",
    "    command=\"python\",\n",
    "    args=[\"/home/cdsw/iceberg-mcp-server/server.py\"],\n",
    "    env={\n",
    "        \"IMPALA_HOST\": \"coordinator-default-impala.example.cloudera.site\",  # Update this for your Impala host\n",
    "        \"IMPALA_USER\": \"username\",\n",
    "        \"IMPALA_PASSWORD\": \"password\",\n",
    "    },\n",
    ")"
   ]
  },
  {
   "cell_type": "code",
   "execution_count": 6,
   "id": "0f8dc577-8bc6-4cab-a214-87e4ff3ac154",
   "metadata": {},
   "outputs": [],
   "source": [
    "async with stdio_client(server_params) as (read, write):\n",
    "    async with ClientSession(read, write) as session:\n",
    "        # Initialize the connection\n",
    "        await session.initialize()\n",
    "\n",
    "        # Get tools\n",
    "        tools = await load_mcp_tools(session)\n",
    "\n",
    "        # Create and run the agent\n",
    "        agent = create_react_agent(model, tools)\n",
    "        agent_response = await agent.ainvoke(\n",
    "            {\n",
    "                \"messages\": \"What information can I learn form the `airlines_snappy` table? I'm looking for a quick answer, don't ask for clarifying questions.\"\n",
    "            }\n",
    "        )"
   ]
  },
  {
   "cell_type": "code",
   "execution_count": 7,
   "id": "3b8d691c-3634-4194-b780-2060a1771bcd",
   "metadata": {},
   "outputs": [
    {
     "data": {
      "text/plain": [
       "{'messages': [HumanMessage(content=\"What information can I learn form the `airlines_snappy` table? I'm looking for a quick answer, don't ask for clarifying questions.\", additional_kwargs={}, response_metadata={}, id='0512e26e-1f57-4a72-a621-3ba835d9183b'),\n",
       "  AIMessage(content='', additional_kwargs={'tool_calls': [{'id': 'chatcmpl-tool-eae3dcd9672c4ebd8591c2107765090e', 'function': {'arguments': '{\"query\": \"SELECT * FROM airlines_snappy LIMIT 1\"}', 'name': 'execute_query'}, 'type': 'function'}], 'refusal': None}, response_metadata={'token_usage': {'completion_tokens': 29, 'prompt_tokens': 290, 'total_tokens': 319, 'completion_tokens_details': None, 'prompt_tokens_details': None}, 'model_name': 'meta/llama-3.1-8b-instruct', 'system_fingerprint': None, 'id': 'chat-aeb8b919ea254ef49ba2be21633fa8d0', 'finish_reason': 'tool_calls', 'logprobs': None}, id='run-051bdb8d-57a9-4c86-822a-9f59d195a4b3-0', tool_calls=[{'name': 'execute_query', 'args': {'query': 'SELECT * FROM airlines_snappy LIMIT 1'}, 'id': 'chatcmpl-tool-eae3dcd9672c4ebd8591c2107765090e', 'type': 'tool_call'}], usage_metadata={'input_tokens': 290, 'output_tokens': 29, 'total_tokens': 319, 'input_token_details': {}, 'output_token_details': {}}),\n",
       "  ToolMessage(content='[[12, 5, 2, 2223, 2200, 59, 45, \"DL\", 986, \"N998DL\", 96, 105, 84, 14, 23, \"DFW\", \"ATL\", 732, 5, 7, 0, \"NA\", \"0\", null, null, null, null, null, 1995]]', name='execute_query', id='97c2f988-b453-4a54-94e5-e23296b5b013', tool_call_id='chatcmpl-tool-eae3dcd9672c4ebd8591c2107765090e'),\n",
       "  AIMessage(content='The `airlines_snappy` table contains information about airlines, including their ID, name, size, carriers, fights, destinations, seat_capacity, fleet_age, and service.', additional_kwargs={'refusal': None}, response_metadata={'token_usage': {'completion_tokens': 36, 'prompt_tokens': 422, 'total_tokens': 458, 'completion_tokens_details': None, 'prompt_tokens_details': None}, 'model_name': 'meta/llama-3.1-8b-instruct', 'system_fingerprint': None, 'id': 'chat-3ea06e43fc4342338692a4e0eae1c13f', 'finish_reason': 'stop', 'logprobs': None}, id='run-15df0055-3c52-4563-902b-5a3c79562be4-0', usage_metadata={'input_tokens': 422, 'output_tokens': 36, 'total_tokens': 458, 'input_token_details': {}, 'output_token_details': {}})]}"
      ]
     },
     "execution_count": 7,
     "metadata": {},
     "output_type": "execute_result"
    }
   ],
   "source": [
    "agent_response"
   ]
  },
  {
   "cell_type": "code",
   "execution_count": 8,
   "id": "f6e87ee6-36b2-4117-8fc2-f5a8a0800061",
   "metadata": {},
   "outputs": [
    {
     "name": "stdout",
     "output_type": "stream",
     "text": [
      "The `airlines_snappy` table contains information about airlines, including their ID, name, size, carriers, fights, destinations, seat_capacity, fleet_age, and service.\n"
     ]
    }
   ],
   "source": [
    "print(agent_response[\"messages\"][3].content)"
   ]
  },
  {
   "cell_type": "code",
   "execution_count": null,
   "id": "8208b0a9-9cd4-4dc2-9f46-8502c344edd2",
   "metadata": {},
   "outputs": [],
   "source": []
  }
 ],
 "metadata": {
  "kernelspec": {
   "display_name": "Python 3 (ipykernel)",
   "language": "python",
   "name": "python3"
  },
  "language_info": {
   "codemirror_mode": {
    "name": "ipython",
    "version": 3
   },
   "file_extension": ".py",
   "mimetype": "text/x-python",
   "name": "python",
   "nbconvert_exporter": "python",
   "pygments_lexer": "ipython3",
   "version": "3.12.8"
  }
 },
 "nbformat": 4,
 "nbformat_minor": 5
}
